{
 "cells": [
  {
   "cell_type": "code",
   "execution_count": 8,
   "metadata": {},
   "outputs": [],
   "source": [
    "%matplotlib inline\n",
    "import pandas as pd \n",
    "import os"
   ]
  },
  {
   "cell_type": "code",
   "execution_count": 11,
   "metadata": {},
   "outputs": [
    {
     "name": "stdout",
     "output_type": "stream",
     "text": [
      " Volume in drive C has no label.\n",
      " Volume Serial Number is 8689-E141\n",
      "\n",
      " Directory of c:\\Users\\jaayg\\OneDrive\\Escritorio\\proyectos\\presupuesto_general_colombia\n",
      "\n",
      "02/08/2025  09:43 PM    <DIR>          .\n",
      "02/08/2025  09:41 PM    <DIR>          ..\n",
      "02/08/2025  09:41 PM    <DIR>          data\n",
      "02/08/2025  09:41 PM               269 enviroment.yml\n",
      "02/13/2025  05:30 PM    <DIR>          notebooks\n",
      "02/08/2025  09:41 PM               140 README.md\n",
      "02/13/2025  05:31 PM                22 requirements.txt\n",
      "02/08/2025  09:41 PM    <DIR>          venv\n",
      "               3 File(s)            431 bytes\n",
      "               5 Dir(s)  64,148,492,288 bytes free\n"
     ]
    }
   ],
   "source": [
    "!dir"
   ]
  },
  {
   "cell_type": "code",
   "execution_count": 9,
   "metadata": {},
   "outputs": [],
   "source": [
    "os.chdir('..')"
   ]
  },
  {
   "cell_type": "code",
   "execution_count": 12,
   "metadata": {},
   "outputs": [],
   "source": [
    "presupuesto_general = pd.read_csv('data/processed/datos_limpios.csv')"
   ]
  },
  {
   "cell_type": "code",
   "execution_count": 13,
   "metadata": {},
   "outputs": [
    {
     "data": {
      "text/html": [
       "<div>\n",
       "<style scoped>\n",
       "    .dataframe tbody tr th:only-of-type {\n",
       "        vertical-align: middle;\n",
       "    }\n",
       "\n",
       "    .dataframe tbody tr th {\n",
       "        vertical-align: top;\n",
       "    }\n",
       "\n",
       "    .dataframe thead th {\n",
       "        text-align: right;\n",
       "    }\n",
       "</style>\n",
       "<table border=\"1\" class=\"dataframe\">\n",
       "  <thead>\n",
       "    <tr style=\"text-align: right;\">\n",
       "      <th></th>\n",
       "      <th>Fuente de Financiación</th>\n",
       "      <th>Situacion de Fondos</th>\n",
       "      <th>Recurso Presupuestal</th>\n",
       "      <th>Codigo del Sector</th>\n",
       "      <th>Nombre del Sector</th>\n",
       "      <th>Codigo Entidad</th>\n",
       "      <th>Nombre Entidad</th>\n",
       "      <th>Apropiación Vigente</th>\n",
       "      <th>Compromisos</th>\n",
       "      <th>Obligaciones</th>\n",
       "      <th>Pagos</th>\n",
       "    </tr>\n",
       "  </thead>\n",
       "  <tbody>\n",
       "    <tr>\n",
       "      <th>0</th>\n",
       "      <td>Nación</td>\n",
       "      <td>CSF</td>\n",
       "      <td>DONACIONES</td>\n",
       "      <td>29</td>\n",
       "      <td>TRABAJO</td>\n",
       "      <td>36-01-01</td>\n",
       "      <td>MINISTERIO DEL TRABAJO - GESTION GENERAL</td>\n",
       "      <td>6.916158e+09</td>\n",
       "      <td>4.083154e+09</td>\n",
       "      <td>1.187892e+09</td>\n",
       "      <td>1.187892e+09</td>\n",
       "    </tr>\n",
       "    <tr>\n",
       "      <th>1</th>\n",
       "      <td>Nación</td>\n",
       "      <td>CSF</td>\n",
       "      <td>DONACIONES</td>\n",
       "      <td>3</td>\n",
       "      <td>AMBIENTE Y DESARROLLO SOSTENIBLE</td>\n",
       "      <td>32-01-01</td>\n",
       "      <td>MINISTERIO DE AMBIENTE Y DESARROLLO SOSTENIBLE...</td>\n",
       "      <td>4.300000e+09</td>\n",
       "      <td>4.300000e+09</td>\n",
       "      <td>4.093660e+09</td>\n",
       "      <td>4.093660e+09</td>\n",
       "    </tr>\n",
       "    <tr>\n",
       "      <th>2</th>\n",
       "      <td>Nación</td>\n",
       "      <td>CSF</td>\n",
       "      <td>DONACIONES</td>\n",
       "      <td>33</td>\n",
       "      <td>VIVIENDA, CIUDAD Y TERRITORIO</td>\n",
       "      <td>40-01-01</td>\n",
       "      <td>MINISTERIO DE VIVIENDA, CIUDAD Y TERRITORIO - ...</td>\n",
       "      <td>1.396300e+10</td>\n",
       "      <td>0.000000e+00</td>\n",
       "      <td>0.000000e+00</td>\n",
       "      <td>0.000000e+00</td>\n",
       "    </tr>\n",
       "    <tr>\n",
       "      <th>3</th>\n",
       "      <td>Nación</td>\n",
       "      <td>CSF</td>\n",
       "      <td>DONACIONES</td>\n",
       "      <td>33</td>\n",
       "      <td>VIVIENDA, CIUDAD Y TERRITORIO</td>\n",
       "      <td>40-02-00</td>\n",
       "      <td>FONDO NACIONAL DE VIVIENDA - FONVIVIENDA</td>\n",
       "      <td>1.098204e+10</td>\n",
       "      <td>0.000000e+00</td>\n",
       "      <td>0.000000e+00</td>\n",
       "      <td>0.000000e+00</td>\n",
       "    </tr>\n",
       "    <tr>\n",
       "      <th>4</th>\n",
       "      <td>Nación</td>\n",
       "      <td>CSF</td>\n",
       "      <td>DONACIONES</td>\n",
       "      <td>4</td>\n",
       "      <td>CULTURA</td>\n",
       "      <td>33-01-01</td>\n",
       "      <td>MINISTERIO DE LAS CULTURAS, LAS ARTES Y LOS SA...</td>\n",
       "      <td>1.456610e+09</td>\n",
       "      <td>1.591858e+08</td>\n",
       "      <td>0.000000e+00</td>\n",
       "      <td>0.000000e+00</td>\n",
       "    </tr>\n",
       "  </tbody>\n",
       "</table>\n",
       "</div>"
      ],
      "text/plain": [
       "  Fuente de Financiación Situacion de Fondos Recurso Presupuestal  \\\n",
       "0                 Nación                 CSF           DONACIONES   \n",
       "1                 Nación                 CSF           DONACIONES   \n",
       "2                 Nación                 CSF           DONACIONES   \n",
       "3                 Nación                 CSF           DONACIONES   \n",
       "4                 Nación                 CSF           DONACIONES   \n",
       "\n",
       "   Codigo del Sector                 Nombre del Sector Codigo Entidad  \\\n",
       "0                 29                           TRABAJO       36-01-01   \n",
       "1                  3  AMBIENTE Y DESARROLLO SOSTENIBLE       32-01-01   \n",
       "2                 33     VIVIENDA, CIUDAD Y TERRITORIO       40-01-01   \n",
       "3                 33     VIVIENDA, CIUDAD Y TERRITORIO       40-02-00   \n",
       "4                  4                           CULTURA       33-01-01   \n",
       "\n",
       "                                      Nombre Entidad  Apropiación Vigente  \\\n",
       "0           MINISTERIO DEL TRABAJO - GESTION GENERAL         6.916158e+09   \n",
       "1  MINISTERIO DE AMBIENTE Y DESARROLLO SOSTENIBLE...         4.300000e+09   \n",
       "2  MINISTERIO DE VIVIENDA, CIUDAD Y TERRITORIO - ...         1.396300e+10   \n",
       "3           FONDO NACIONAL DE VIVIENDA - FONVIVIENDA         1.098204e+10   \n",
       "4  MINISTERIO DE LAS CULTURAS, LAS ARTES Y LOS SA...         1.456610e+09   \n",
       "\n",
       "    Compromisos  Obligaciones         Pagos  \n",
       "0  4.083154e+09  1.187892e+09  1.187892e+09  \n",
       "1  4.300000e+09  4.093660e+09  4.093660e+09  \n",
       "2  0.000000e+00  0.000000e+00  0.000000e+00  \n",
       "3  0.000000e+00  0.000000e+00  0.000000e+00  \n",
       "4  1.591858e+08  0.000000e+00  0.000000e+00  "
      ]
     },
     "execution_count": 13,
     "metadata": {},
     "output_type": "execute_result"
    }
   ],
   "source": [
    "presupuesto_general.head()"
   ]
  },
  {
   "cell_type": "markdown",
   "metadata": {},
   "source": [
    "## Visión general del dataset."
   ]
  },
  {
   "cell_type": "code",
   "execution_count": 14,
   "metadata": {},
   "outputs": [
    {
     "data": {
      "text/plain": [
       "Index(['Fuente de Financiación', 'Situacion de Fondos', 'Recurso Presupuestal',\n",
       "       'Codigo del Sector', 'Nombre del Sector', 'Codigo Entidad',\n",
       "       'Nombre Entidad', 'Apropiación Vigente', 'Compromisos', 'Obligaciones',\n",
       "       'Pagos'],\n",
       "      dtype='object')"
      ]
     },
     "execution_count": 14,
     "metadata": {},
     "output_type": "execute_result"
    }
   ],
   "source": [
    "presupuesto_general.columns"
   ]
  },
  {
   "cell_type": "code",
   "execution_count": 15,
   "metadata": {},
   "outputs": [
    {
     "data": {
      "text/plain": [
       "Fuente de Financiación     object\n",
       "Situacion de Fondos        object\n",
       "Recurso Presupuestal       object\n",
       "Codigo del Sector           int64\n",
       "Nombre del Sector          object\n",
       "Codigo Entidad             object\n",
       "Nombre Entidad             object\n",
       "Apropiación Vigente       float64\n",
       "Compromisos               float64\n",
       "Obligaciones              float64\n",
       "Pagos                     float64\n",
       "dtype: object"
      ]
     },
     "execution_count": 15,
     "metadata": {},
     "output_type": "execute_result"
    }
   ],
   "source": [
    "presupuesto_general.dtypes"
   ]
  },
  {
   "cell_type": "code",
   "execution_count": 16,
   "metadata": {},
   "outputs": [
    {
     "data": {
      "text/html": [
       "<div>\n",
       "<style scoped>\n",
       "    .dataframe tbody tr th:only-of-type {\n",
       "        vertical-align: middle;\n",
       "    }\n",
       "\n",
       "    .dataframe tbody tr th {\n",
       "        vertical-align: top;\n",
       "    }\n",
       "\n",
       "    .dataframe thead th {\n",
       "        text-align: right;\n",
       "    }\n",
       "</style>\n",
       "<table border=\"1\" class=\"dataframe\">\n",
       "  <thead>\n",
       "    <tr style=\"text-align: right;\">\n",
       "      <th></th>\n",
       "      <th>Codigo del Sector</th>\n",
       "      <th>Apropiación Vigente</th>\n",
       "      <th>Compromisos</th>\n",
       "      <th>Obligaciones</th>\n",
       "      <th>Pagos</th>\n",
       "    </tr>\n",
       "  </thead>\n",
       "  <tbody>\n",
       "    <tr>\n",
       "      <th>count</th>\n",
       "      <td>613.000000</td>\n",
       "      <td>6.130000e+02</td>\n",
       "      <td>6.130000e+02</td>\n",
       "      <td>6.130000e+02</td>\n",
       "      <td>6.130000e+02</td>\n",
       "    </tr>\n",
       "    <tr>\n",
       "      <th>mean</th>\n",
       "      <td>13.068515</td>\n",
       "      <td>8.213029e+11</td>\n",
       "      <td>5.414228e+11</td>\n",
       "      <td>4.638919e+11</td>\n",
       "      <td>4.609474e+11</td>\n",
       "    </tr>\n",
       "    <tr>\n",
       "      <th>std</th>\n",
       "      <td>9.938958</td>\n",
       "      <td>4.670013e+12</td>\n",
       "      <td>3.179830e+12</td>\n",
       "      <td>3.064054e+12</td>\n",
       "      <td>3.050499e+12</td>\n",
       "    </tr>\n",
       "    <tr>\n",
       "      <th>min</th>\n",
       "      <td>2.000000</td>\n",
       "      <td>0.000000e+00</td>\n",
       "      <td>0.000000e+00</td>\n",
       "      <td>0.000000e+00</td>\n",
       "      <td>0.000000e+00</td>\n",
       "    </tr>\n",
       "    <tr>\n",
       "      <th>25%</th>\n",
       "      <td>4.000000</td>\n",
       "      <td>2.943835e+09</td>\n",
       "      <td>4.592288e+08</td>\n",
       "      <td>0.000000e+00</td>\n",
       "      <td>0.000000e+00</td>\n",
       "    </tr>\n",
       "    <tr>\n",
       "      <th>50%</th>\n",
       "      <td>12.000000</td>\n",
       "      <td>2.970122e+10</td>\n",
       "      <td>1.460971e+10</td>\n",
       "      <td>6.299769e+09</td>\n",
       "      <td>6.231765e+09</td>\n",
       "    </tr>\n",
       "    <tr>\n",
       "      <th>75%</th>\n",
       "      <td>19.000000</td>\n",
       "      <td>1.774530e+11</td>\n",
       "      <td>1.266690e+11</td>\n",
       "      <td>6.993143e+10</td>\n",
       "      <td>6.899216e+10</td>\n",
       "    </tr>\n",
       "    <tr>\n",
       "      <th>max</th>\n",
       "      <td>36.000000</td>\n",
       "      <td>6.125810e+13</td>\n",
       "      <td>4.232480e+13</td>\n",
       "      <td>4.098120e+13</td>\n",
       "      <td>4.085970e+13</td>\n",
       "    </tr>\n",
       "  </tbody>\n",
       "</table>\n",
       "</div>"
      ],
      "text/plain": [
       "       Codigo del Sector  Apropiación Vigente   Compromisos  Obligaciones  \\\n",
       "count         613.000000         6.130000e+02  6.130000e+02  6.130000e+02   \n",
       "mean           13.068515         8.213029e+11  5.414228e+11  4.638919e+11   \n",
       "std             9.938958         4.670013e+12  3.179830e+12  3.064054e+12   \n",
       "min             2.000000         0.000000e+00  0.000000e+00  0.000000e+00   \n",
       "25%             4.000000         2.943835e+09  4.592288e+08  0.000000e+00   \n",
       "50%            12.000000         2.970122e+10  1.460971e+10  6.299769e+09   \n",
       "75%            19.000000         1.774530e+11  1.266690e+11  6.993143e+10   \n",
       "max            36.000000         6.125810e+13  4.232480e+13  4.098120e+13   \n",
       "\n",
       "              Pagos  \n",
       "count  6.130000e+02  \n",
       "mean   4.609474e+11  \n",
       "std    3.050499e+12  \n",
       "min    0.000000e+00  \n",
       "25%    0.000000e+00  \n",
       "50%    6.231765e+09  \n",
       "75%    6.899216e+10  \n",
       "max    4.085970e+13  "
      ]
     },
     "execution_count": 16,
     "metadata": {},
     "output_type": "execute_result"
    }
   ],
   "source": [
    "presupuesto_general.describe()"
   ]
  },
  {
   "cell_type": "code",
   "execution_count": 17,
   "metadata": {},
   "outputs": [],
   "source": [
    "presupuesto_general = presupuesto_general[['Fuente de Financiación','Recurso Presupuestal','Nombre del Sector','Nombre Entidad','Apropiación Vigente', 'Compromisos', 'Obligaciones', 'Pagos']]"
   ]
  },
  {
   "cell_type": "markdown",
   "metadata": {},
   "source": [
    "## Análisis unidimensional de las variables."
   ]
  },
  {
   "cell_type": "code",
   "execution_count": 18,
   "metadata": {},
   "outputs": [
    {
     "data": {
      "text/plain": [
       "array(['Nación', 'Propios'], dtype=object)"
      ]
     },
     "execution_count": 18,
     "metadata": {},
     "output_type": "execute_result"
    }
   ],
   "source": [
    "presupuesto_general['Fuente de Financiación'].unique()"
   ]
  },
  {
   "cell_type": "code",
   "execution_count": 19,
   "metadata": {},
   "outputs": [
    {
     "data": {
      "text/plain": [
       "array(['DONACIONES', 'FONDO\\xa0ESPECIAL\\xa0FAZNI', 'FONDOS\\xa0ESPECIALES',\n",
       "       'OTROS\\xa0RECURSOS\\xa0DEL\\xa0TESORO',\n",
       "       'PRESTAMOS DESTINACIÓN ESPECIFICA',\n",
       "       'RECURSOS DEL CREDITO EXTERNO PREVIA AUTORIZACION',\n",
       "       'RECURSOS\\xa0CORRIENTES', 'FONDO ESPECIAL DEFENSA NACIONAL',\n",
       "       'RENTAS\\xa0PARAFISCALES', 'INGRESOS\\xa0CORRIENTES',\n",
       "       'OTROS\\xa0RECURSOS\\xa0DE\\xa0TESORERIA', 'RENTAS PARAFISCALES'],\n",
       "      dtype=object)"
      ]
     },
     "execution_count": 19,
     "metadata": {},
     "output_type": "execute_result"
    }
   ],
   "source": [
    "presupuesto_general['Recurso Presupuestal'].unique()"
   ]
  },
  {
   "cell_type": "code",
   "execution_count": 21,
   "metadata": {},
   "outputs": [
    {
     "data": {
      "text/plain": [
       "<Axes: >"
      ]
     },
     "execution_count": 21,
     "metadata": {},
     "output_type": "execute_result"
    },
    {
     "data": {
      "image/png": "[encoded data removed]",
      "text/plain": [
       "<Figure size 640x480 with 1 Axes>"
      ]
     },
     "metadata": {},
     "output_type": "display_data"
    }
   ],
   "source": [
    "presupuesto_general['Obligaciones'].hist()"
   ]
  },
  {
   "cell_type": "code",
   "execution_count": 25,
   "metadata": {},
   "outputs": [
    {
     "data": {
      "text/plain": [
       "<Axes: >"
      ]
     },
     "execution_count": 25,
     "metadata": {},
     "output_type": "execute_result"
    },
    {
     "data": {
      "image/png": "[encoded data removed]",
      "text/plain": [
       "<Figure size 640x480 with 1 Axes>"
      ]
     },
     "metadata": {},
     "output_type": "display_data"
    }
   ],
   "source": [
    "presupuesto_general[presupuesto_general['Obligaciones'] < presupuesto_general['Obligaciones'].quantile(0.95)]['Obligaciones'].hist()"
   ]
  },
  {
   "cell_type": "code",
   "execution_count": 26,
   "metadata": {},
   "outputs": [
    {
     "data": {
      "text/plain": [
       "<Axes: >"
      ]
     },
     "execution_count": 26,
     "metadata": {},
     "output_type": "execute_result"
    },
    {
     "data": {
      "image/png": "[encoded data removed]",
      "text/plain": [
       "<Figure size 640x480 with 1 Axes>"
      ]
     },
     "metadata": {},
     "output_type": "display_data"
    }
   ],
   "source": [
    "presupuesto_general[presupuesto_general['Obligaciones'] < presupuesto_general['Obligaciones'].quantile(0.95)]['Obligaciones'].hist(bins=50)"
   ]
  },
  {
   "cell_type": "markdown",
   "metadata": {},
   "source": [
    "## Análisis multidimensional de las variables."
   ]
  },
  {
   "cell_type": "markdown",
   "metadata": {},
   "source": [
    "## Análisis de texto."
   ]
  }
 ],
 "metadata": {
  "kernelspec": {
   "display_name": "base",
   "language": "python",
   "name": "python3"
  },
  "language_info": {
   "codemirror_mode": {
    "name": "ipython",
    "version": 3
   },
   "file_extension": ".py",
   "mimetype": "text/x-python",
   "name": "python",
   "nbconvert_exporter": "python",
   "pygments_lexer": "ipython3",
   "version": "3.10.9"
  }
 },
 "nbformat": 4,
 "nbformat_minor": 2
}
