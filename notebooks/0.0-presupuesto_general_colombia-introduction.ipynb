{
 "cells": [
  {
   "cell_type": "code",
   "execution_count": 1,
   "metadata": {},
   "outputs": [],
   "source": [
    "import pandas as pd \n",
    "import os"
   ]
  },
  {
   "cell_type": "code",
   "execution_count": 2,
   "metadata": {},
   "outputs": [],
   "source": [
    "os.chdir('..')"
   ]
  },
  {
   "cell_type": "code",
   "execution_count": 3,
   "metadata": {},
   "outputs": [
    {
     "name": "stdout",
     "output_type": "stream",
     "text": [
      " Volume in drive C has no label.\n",
      " Volume Serial Number is 8689-E141\n",
      "\n",
      " Directory of c:\\Users\\jaayg\\OneDrive\\Escritorio\\proyectos\\presupuesto_general_colombia\n",
      "\n",
      "02/08/2025  09:43 PM    <DIR>          .\n",
      "02/08/2025  09:41 PM    <DIR>          ..\n",
      "02/08/2025  09:41 PM    <DIR>          data\n",
      "02/08/2025  09:41 PM               269 enviroment.yml\n",
      "02/08/2025  09:41 PM    <DIR>          notebooks\n",
      "02/08/2025  09:41 PM               140 README.md\n",
      "02/08/2025  09:41 PM                 0 requirements.txt\n",
      "02/08/2025  09:41 PM    <DIR>          venv\n",
      "               3 File(s)            409 bytes\n",
      "               5 Dir(s)  69,125,677,056 bytes free\n"
     ]
    }
   ],
   "source": [
    "!dir"
   ]
  },
  {
   "cell_type": "code",
   "execution_count": 8,
   "metadata": {},
   "outputs": [],
   "source": [
    "df_presupuesto = pd.read_csv('data/raw/presupuesto_nacion.csv')"
   ]
  },
  {
   "cell_type": "code",
   "execution_count": 9,
   "metadata": {},
   "outputs": [
    {
     "data": {
      "text/html": [
       "<div>\n",
       "<style scoped>\n",
       "    .dataframe tbody tr th:only-of-type {\n",
       "        vertical-align: middle;\n",
       "    }\n",
       "\n",
       "    .dataframe tbody tr th {\n",
       "        vertical-align: top;\n",
       "    }\n",
       "\n",
       "    .dataframe thead th {\n",
       "        text-align: right;\n",
       "    }\n",
       "</style>\n",
       "<table border=\"1\" class=\"dataframe\">\n",
       "  <thead>\n",
       "    <tr style=\"text-align: right;\">\n",
       "      <th></th>\n",
       "      <th>Fuente de Financiación</th>\n",
       "      <th>Situacion de Fondos</th>\n",
       "      <th>Recurso Presupuestal</th>\n",
       "      <th>Codigo del Sector</th>\n",
       "      <th>Nombre del Sector</th>\n",
       "      <th>Codigo Entidad</th>\n",
       "      <th>Nombre Entidad</th>\n",
       "      <th>Apropiación Vigente</th>\n",
       "      <th>Compromisos</th>\n",
       "      <th>Obligaciones</th>\n",
       "      <th>Pagos</th>\n",
       "    </tr>\n",
       "  </thead>\n",
       "  <tbody>\n",
       "    <tr>\n",
       "      <th>0</th>\n",
       "      <td>Nación</td>\n",
       "      <td>CSF</td>\n",
       "      <td>DONACIONES</td>\n",
       "      <td>29</td>\n",
       "      <td>TRABAJO</td>\n",
       "      <td>36-01-01</td>\n",
       "      <td>MINISTERIO DEL TRABAJO - GESTION GENERAL</td>\n",
       "      <td>6.916158e+09</td>\n",
       "      <td>4.083154e+09</td>\n",
       "      <td>1.187892e+09</td>\n",
       "      <td>1.187892e+09</td>\n",
       "    </tr>\n",
       "    <tr>\n",
       "      <th>1</th>\n",
       "      <td>Nación</td>\n",
       "      <td>CSF</td>\n",
       "      <td>DONACIONES</td>\n",
       "      <td>3</td>\n",
       "      <td>AMBIENTE Y DESARROLLO SOSTENIBLE</td>\n",
       "      <td>32-01-01</td>\n",
       "      <td>MINISTERIO DE AMBIENTE Y DESARROLLO SOSTENIBLE...</td>\n",
       "      <td>4.300000e+09</td>\n",
       "      <td>4.300000e+09</td>\n",
       "      <td>4.093660e+09</td>\n",
       "      <td>4.093660e+09</td>\n",
       "    </tr>\n",
       "    <tr>\n",
       "      <th>2</th>\n",
       "      <td>Nación</td>\n",
       "      <td>CSF</td>\n",
       "      <td>DONACIONES</td>\n",
       "      <td>33</td>\n",
       "      <td>VIVIENDA, CIUDAD Y TERRITORIO</td>\n",
       "      <td>40-01-01</td>\n",
       "      <td>MINISTERIO DE VIVIENDA, CIUDAD Y TERRITORIO - ...</td>\n",
       "      <td>1.396300e+10</td>\n",
       "      <td>0.000000e+00</td>\n",
       "      <td>0.000000e+00</td>\n",
       "      <td>0.000000e+00</td>\n",
       "    </tr>\n",
       "    <tr>\n",
       "      <th>3</th>\n",
       "      <td>Nación</td>\n",
       "      <td>CSF</td>\n",
       "      <td>DONACIONES</td>\n",
       "      <td>33</td>\n",
       "      <td>VIVIENDA, CIUDAD Y TERRITORIO</td>\n",
       "      <td>40-02-00</td>\n",
       "      <td>FONDO NACIONAL DE VIVIENDA - FONVIVIENDA</td>\n",
       "      <td>1.098204e+10</td>\n",
       "      <td>0.000000e+00</td>\n",
       "      <td>0.000000e+00</td>\n",
       "      <td>0.000000e+00</td>\n",
       "    </tr>\n",
       "    <tr>\n",
       "      <th>4</th>\n",
       "      <td>Nación</td>\n",
       "      <td>CSF</td>\n",
       "      <td>DONACIONES</td>\n",
       "      <td>4</td>\n",
       "      <td>CULTURA</td>\n",
       "      <td>33-01-01</td>\n",
       "      <td>MINISTERIO DE LAS CULTURAS, LAS ARTES Y LOS SA...</td>\n",
       "      <td>1.456610e+09</td>\n",
       "      <td>1.591858e+08</td>\n",
       "      <td>0.000000e+00</td>\n",
       "      <td>0.000000e+00</td>\n",
       "    </tr>\n",
       "  </tbody>\n",
       "</table>\n",
       "</div>"
      ],
      "text/plain": [
       "  Fuente de Financiación Situacion de Fondos Recurso Presupuestal  \\\n",
       "0                 Nación                 CSF           DONACIONES   \n",
       "1                 Nación                 CSF           DONACIONES   \n",
       "2                 Nación                 CSF           DONACIONES   \n",
       "3                 Nación                 CSF           DONACIONES   \n",
       "4                 Nación                 CSF           DONACIONES   \n",
       "\n",
       "   Codigo del Sector                 Nombre del Sector Codigo Entidad  \\\n",
       "0                 29                           TRABAJO       36-01-01   \n",
       "1                  3  AMBIENTE Y DESARROLLO SOSTENIBLE       32-01-01   \n",
       "2                 33     VIVIENDA, CIUDAD Y TERRITORIO       40-01-01   \n",
       "3                 33     VIVIENDA, CIUDAD Y TERRITORIO       40-02-00   \n",
       "4                  4                           CULTURA       33-01-01   \n",
       "\n",
       "                                      Nombre Entidad  Apropiación Vigente  \\\n",
       "0           MINISTERIO DEL TRABAJO - GESTION GENERAL         6.916158e+09   \n",
       "1  MINISTERIO DE AMBIENTE Y DESARROLLO SOSTENIBLE...         4.300000e+09   \n",
       "2  MINISTERIO DE VIVIENDA, CIUDAD Y TERRITORIO - ...         1.396300e+10   \n",
       "3           FONDO NACIONAL DE VIVIENDA - FONVIVIENDA         1.098204e+10   \n",
       "4  MINISTERIO DE LAS CULTURAS, LAS ARTES Y LOS SA...         1.456610e+09   \n",
       "\n",
       "    Compromisos  Obligaciones         Pagos  \n",
       "0  4.083154e+09  1.187892e+09  1.187892e+09  \n",
       "1  4.300000e+09  4.093660e+09  4.093660e+09  \n",
       "2  0.000000e+00  0.000000e+00  0.000000e+00  \n",
       "3  0.000000e+00  0.000000e+00  0.000000e+00  \n",
       "4  1.591858e+08  0.000000e+00  0.000000e+00  "
      ]
     },
     "execution_count": 9,
     "metadata": {},
     "output_type": "execute_result"
    }
   ],
   "source": [
    "df_presupuesto.head()"
   ]
  },
  {
   "cell_type": "markdown",
   "metadata": {},
   "source": [
    "Aegurarme que el codigo de la entidad sea tratado como un string"
   ]
  },
  {
   "cell_type": "code",
   "execution_count": 10,
   "metadata": {},
   "outputs": [],
   "source": [
    "df_presupuesto[\"Codigo Entidad\"] = df_presupuesto[\"Codigo Entidad\"].astype(str)"
   ]
  },
  {
   "cell_type": "code",
   "execution_count": 14,
   "metadata": {},
   "outputs": [
    {
     "data": {
      "text/plain": [
       "0"
      ]
     },
     "execution_count": 14,
     "metadata": {},
     "output_type": "execute_result"
    }
   ],
   "source": [
    "df_presupuesto[\"Nombre Entidad\"].isnull().sum()"
   ]
  },
  {
   "cell_type": "code",
   "execution_count": 17,
   "metadata": {},
   "outputs": [
    {
     "data": {
      "text/plain": [
       "0"
      ]
     },
     "execution_count": 17,
     "metadata": {},
     "output_type": "execute_result"
    }
   ],
   "source": [
    "df_presupuesto[\"Nombre del Sector\"].isnull().sum()"
   ]
  },
  {
   "cell_type": "markdown",
   "metadata": {},
   "source": [
    "Revisar valores negativos, se convierten a 0"
   ]
  },
  {
   "cell_type": "code",
   "execution_count": 18,
   "metadata": {},
   "outputs": [],
   "source": [
    "columns_to_check = [\"Apropiación Vigente\", \"Compromisos\", \"Obligaciones\", \"Pagos\"]\n",
    "for col in columns_to_check:\n",
    "    df_presupuesto[col] = df_presupuesto[col].apply(lambda x: max(x, 0))  # Convertir valores negativos en 0"
   ]
  },
  {
   "cell_type": "code",
   "execution_count": 21,
   "metadata": {},
   "outputs": [],
   "source": [
    "df_presupuesto.to_csv('data\\processed\\datos_limpios.csv', index=False, encoding='utf-8-sig')"
   ]
  }
 ],
 "metadata": {
  "kernelspec": {
   "display_name": "base",
   "language": "python",
   "name": "python3"
  },
  "language_info": {
   "codemirror_mode": {
    "name": "ipython",
    "version": 3
   },
   "file_extension": ".py",
   "mimetype": "text/x-python",
   "name": "python",
   "nbconvert_exporter": "python",
   "pygments_lexer": "ipython3",
   "version": "3.10.9"
  }
 },
 "nbformat": 4,
 "nbformat_minor": 2
}
